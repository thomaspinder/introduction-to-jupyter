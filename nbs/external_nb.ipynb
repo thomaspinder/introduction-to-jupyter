{
 "cells": [
  {
   "cell_type": "code",
   "execution_count": 1,
   "metadata": {},
   "outputs": [],
   "source": [
    "def fibonacci(n):\n",
    "    \"\"\"\n",
    "    Calculate the nth value of the fibonacci sequence\n",
    "    \n",
    "    Parameters\n",
    "    ----------\n",
    "    n : int\n",
    "        The nth value in the sequence to be returned.\n",
    "\n",
    "    Returns\n",
    "    ----------\n",
    "    b : int\n",
    "        Integer value of the fibonacci sequence's nth value.\n",
    "    \"\"\"\n",
    "    a, b = 0, 1\n",
    "    for _ in range(1, n):\n",
    "        a, b = b, a + b\n",
    "    return b"
   ]
  }
 ],
 "metadata": {
  "kernelspec": {
   "display_name": "Python 3",
   "language": "python",
   "name": "python3"
  },
  "language_info": {
   "codemirror_mode": {
    "name": "ipython",
    "version": 3
   },
   "file_extension": ".py",
   "mimetype": "text/x-python",
   "name": "python",
   "nbconvert_exporter": "python",
   "pygments_lexer": "ipython3",
   "version": "3.6.7"
  }
 },
 "nbformat": 4,
 "nbformat_minor": 2
}
